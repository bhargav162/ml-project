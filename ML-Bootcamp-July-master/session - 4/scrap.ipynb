{
 "cells": [
  {
   "cell_type": "code",
   "execution_count": 1,
   "metadata": {},
   "outputs": [],
   "source": [
    "import requests"
   ]
  },
  {
   "cell_type": "code",
   "execution_count": 2,
   "metadata": {},
   "outputs": [],
   "source": [
    "from bs4 import BeautifulSoup"
   ]
  },
  {
   "cell_type": "code",
   "execution_count": 3,
   "metadata": {},
   "outputs": [],
   "source": [
    "url = \"https://www.goodreads.com/quotes/tag/{}\"\n"
   ]
  },
  {
   "cell_type": "code",
   "execution_count": 4,
   "metadata": {},
   "outputs": [
    {
     "data": {
      "text/plain": [
       "'https://www.goodreads.com/quotes/tag/love'"
      ]
     },
     "execution_count": 4,
     "metadata": {},
     "output_type": "execute_result"
    }
   ],
   "source": [
    "url.format(\"love\")"
   ]
  },
  {
   "cell_type": "code",
   "execution_count": 5,
   "metadata": {},
   "outputs": [],
   "source": [
    "res = requests.get(url)"
   ]
  },
  {
   "cell_type": "code",
   "execution_count": 8,
   "metadata": {},
   "outputs": [],
   "source": [
    "soup = BeautifulSoup(res.text)"
   ]
  },
  {
   "cell_type": "code",
   "execution_count": 13,
   "metadata": {},
   "outputs": [],
   "source": [
    "links = soup.find_all(\"a\")"
   ]
  },
  {
   "cell_type": "code",
   "execution_count": 23,
   "metadata": {},
   "outputs": [],
   "source": [
    "quote_divs = soup.find_all(\"div\", attrs={\"class\" : \"quote\"})"
   ]
  },
  {
   "cell_type": "code",
   "execution_count": 26,
   "metadata": {},
   "outputs": [],
   "source": [
    "quote_div = quote_divs[0]"
   ]
  },
  {
   "cell_type": "code",
   "execution_count": 30,
   "metadata": {},
   "outputs": [],
   "source": [
    "quoteText_div = quote_div.find_next(\"div\", attrs={\"class\" : \"quoteText\"})"
   ]
  },
  {
   "cell_type": "code",
   "execution_count": 31,
   "metadata": {},
   "outputs": [
    {
     "data": {
      "text/plain": [
       "<div class=\"quoteText\">\n",
       "      “I'm selfish, impatient and a little insecure. I make mistakes, I am out of control and at times hard to handle. But if you can't handle me at my worst, then you sure as hell don't deserve me at my best.”\n",
       "  <br/>  ―\n",
       "  <span class=\"authorOrTitle\">\n",
       "    Marilyn Monroe\n",
       "  </span>\n",
       "</div>"
      ]
     },
     "execution_count": 31,
     "metadata": {},
     "output_type": "execute_result"
    }
   ],
   "source": [
    "quoteText_div"
   ]
  },
  {
   "cell_type": "code",
   "execution_count": 36,
   "metadata": {},
   "outputs": [],
   "source": [
    "striped = quoteText_div.text.strip()"
   ]
  },
  {
   "cell_type": "code",
   "execution_count": 38,
   "metadata": {},
   "outputs": [],
   "source": [
    "striped_li = striped.split(\"\\n\")"
   ]
  },
  {
   "cell_type": "code",
   "execution_count": 42,
   "metadata": {},
   "outputs": [],
   "source": [
    "quote = striped_li[0][1:-1]\n",
    "author = striped_li[-1].strip()"
   ]
  },
  {
   "cell_type": "code",
   "execution_count": 43,
   "metadata": {},
   "outputs": [
    {
     "data": {
      "text/plain": [
       "\"I'm selfish, impatient and a little insecure. I make mistakes, I am out of control and at times hard to handle. But if you can't handle me at my worst, then you sure as hell don't deserve me at my best.\""
      ]
     },
     "execution_count": 43,
     "metadata": {},
     "output_type": "execute_result"
    }
   ],
   "source": [
    "quote"
   ]
  },
  {
   "cell_type": "code",
   "execution_count": 44,
   "metadata": {},
   "outputs": [
    {
     "data": {
      "text/plain": [
       "'Marilyn Monroe'"
      ]
     },
     "execution_count": 44,
     "metadata": {},
     "output_type": "execute_result"
    }
   ],
   "source": [
    "author"
   ]
  },
  {
   "cell_type": "code",
   "execution_count": 47,
   "metadata": {},
   "outputs": [],
   "source": [
    "left_div = quote_div.find_next(\"div\", attrs={\"class\" : \"left\"})"
   ]
  },
  {
   "cell_type": "code",
   "execution_count": 48,
   "metadata": {},
   "outputs": [
    {
     "data": {
      "text/plain": [
       "<div class=\"greyText smallText left\">\n",
       "     tags:\n",
       "       <a href=\"/quotes/tag/attributed-no-source\">attributed-no-source</a>,\n",
       "       <a href=\"/quotes/tag/best\">best</a>,\n",
       "       <a href=\"/quotes/tag/life\">life</a>,\n",
       "       <a href=\"/quotes/tag/love\">love</a>,\n",
       "       <a href=\"/quotes/tag/mistakes\">mistakes</a>,\n",
       "       <a href=\"/quotes/tag/out-of-control\">out-of-control</a>,\n",
       "       <a href=\"/quotes/tag/truth\">truth</a>,\n",
       "       <a href=\"/quotes/tag/worst\">worst</a>\n",
       "</div>"
      ]
     },
     "execution_count": 48,
     "metadata": {},
     "output_type": "execute_result"
    }
   ],
   "source": [
    "left_div"
   ]
  },
  {
   "cell_type": "code",
   "execution_count": 51,
   "metadata": {},
   "outputs": [],
   "source": [
    "tags = [tag.text for tag in left_div.find_all(\"a\")]"
   ]
  },
  {
   "cell_type": "code",
   "execution_count": 52,
   "metadata": {},
   "outputs": [
    {
     "data": {
      "text/plain": [
       "<div class=\"quote\">\n",
       "<div class=\"quoteDetails\">\n",
       "<a class=\"leftAlignedImage\" href=\"https://images.gr-assets.com/quotes/1511992603p8/8630.jpg\">\n",
       "<img alt=\"I'm selfish, impatient and a little insecure. I make mistakes, I am out of control\" src=\"https://images.gr-assets.com/quotes/1511992603p2/8630.jpg\"/>\n",
       "</a>\n",
       "<div class=\"quoteText\">\n",
       "      “I'm selfish, impatient and a little insecure. I make mistakes, I am out of control and at times hard to handle. But if you can't handle me at my worst, then you sure as hell don't deserve me at my best.”\n",
       "  <br/>  ―\n",
       "  <span class=\"authorOrTitle\">\n",
       "    Marilyn Monroe\n",
       "  </span>\n",
       "</div>\n",
       "<div class=\"quoteFooter\">\n",
       "<div class=\"greyText smallText left\">\n",
       "     tags:\n",
       "       <a href=\"/quotes/tag/attributed-no-source\">attributed-no-source</a>,\n",
       "       <a href=\"/quotes/tag/best\">best</a>,\n",
       "       <a href=\"/quotes/tag/life\">life</a>,\n",
       "       <a href=\"/quotes/tag/love\">love</a>,\n",
       "       <a href=\"/quotes/tag/mistakes\">mistakes</a>,\n",
       "       <a href=\"/quotes/tag/out-of-control\">out-of-control</a>,\n",
       "       <a href=\"/quotes/tag/truth\">truth</a>,\n",
       "       <a href=\"/quotes/tag/worst\">worst</a>\n",
       "</div>\n",
       "<div class=\"right\">\n",
       "<a class=\"smallText\" href=\"/quotes/8630-i-m-selfish-impatient-and-a-little-insecure-i-make-mistakes\" title=\"View this quote\">151638 likes</a>\n",
       "</div>\n",
       "</div>\n",
       "</div>\n",
       "<div class=\"action\">\n",
       "<a class=\"gr-button gr-button--small\" href=\"/user/new\" rel=\"nofollow\">Like</a>\n",
       "</div>\n",
       "</div>"
      ]
     },
     "execution_count": 52,
     "metadata": {},
     "output_type": "execute_result"
    }
   ],
   "source": [
    "quote_div"
   ]
  },
  {
   "cell_type": "code",
   "execution_count": null,
   "metadata": {},
   "outputs": [],
   "source": []
  }
 ],
 "metadata": {
  "kernelspec": {
   "display_name": "Python 3",
   "language": "python",
   "name": "python3"
  },
  "language_info": {
   "codemirror_mode": {
    "name": "ipython",
    "version": 3
   },
   "file_extension": ".py",
   "mimetype": "text/x-python",
   "name": "python",
   "nbconvert_exporter": "python",
   "pygments_lexer": "ipython3",
   "version": "3.7.7"
  }
 },
 "nbformat": 4,
 "nbformat_minor": 4
}
