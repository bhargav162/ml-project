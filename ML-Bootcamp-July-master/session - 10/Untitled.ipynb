{
 "cells": [
  {
   "cell_type": "code",
   "execution_count": 80,
   "metadata": {},
   "outputs": [],
   "source": [
    "from tensorflow.keras.preprocessing.image import ImageDataGenerator\n",
    "import numpy as np"
   ]
  },
  {
   "cell_type": "code",
   "execution_count": 3,
   "metadata": {},
   "outputs": [],
   "source": [
    "gen = ImageDataGenerator()"
   ]
  },
  {
   "cell_type": "code",
   "execution_count": 87,
   "metadata": {},
   "outputs": [
    {
     "name": "stdout",
     "output_type": "stream",
     "text": [
      "Found 192 images belonging to 2 classes.\n"
     ]
    }
   ],
   "source": [
    "flow = gen.flow_from_directory(\"../datasets/clean-dirty/\", color_mode=\"grayscale\", target_size=(100, 100), batch_size=200)"
   ]
  },
  {
   "cell_type": "code",
   "execution_count": 88,
   "metadata": {},
   "outputs": [],
   "source": [
    "out = flow.next()"
   ]
  },
  {
   "cell_type": "code",
   "execution_count": 89,
   "metadata": {},
   "outputs": [],
   "source": [
    "X = out[0].reshape(-1, 10000)"
   ]
  },
  {
   "cell_type": "code",
   "execution_count": 90,
   "metadata": {},
   "outputs": [],
   "source": [
    "y = out[1].argmax(axis=1)"
   ]
  },
  {
   "cell_type": "code",
   "execution_count": 91,
   "metadata": {},
   "outputs": [],
   "source": [
    "from sklearn.model_selection import train_test_split"
   ]
  },
  {
   "cell_type": "code",
   "execution_count": 92,
   "metadata": {},
   "outputs": [],
   "source": [
    "X_train, X_test, y_train, y_test = train_test_split(\n",
    "...     X, y, test_size=0.33, random_state=42)"
   ]
  },
  {
   "cell_type": "code",
   "execution_count": 113,
   "metadata": {},
   "outputs": [],
   "source": [
    "from sklearn.linear_model import LogisticRegression\n",
    "from sklearn.model_selection import GridSearchCV\n",
    "grid={\"C\":np.logspace(-2,2,7),\"penalty\":[\"l1\",\"l2\"], \"solver\":[\"liblinear\"], \"tol\":np.logspace(-2,2,4)},\n",
    "logistic_regression=LogisticRegression(random_state=42)\n",
    "log_reg_cv=GridSearchCV(logistic_regression,grid,cv=10)"
   ]
  },
  {
   "cell_type": "code",
   "execution_count": 114,
   "metadata": {},
   "outputs": [
    {
     "data": {
      "text/plain": [
       "GridSearchCV(cv=10, estimator=LogisticRegression(random_state=42),\n",
       "             param_grid=({'C': array([1.00000000e-02, 4.64158883e-02, 2.15443469e-01, 1.00000000e+00,\n",
       "       4.64158883e+00, 2.15443469e+01, 1.00000000e+02]),\n",
       "                          'penalty': ['l1', 'l2'], 'solver': ['liblinear'],\n",
       "                          'tol': array([1.00000000e-02, 2.15443469e-01, 4.64158883e+00, 1.00000000e+02])},))"
      ]
     },
     "execution_count": 114,
     "metadata": {},
     "output_type": "execute_result"
    }
   ],
   "source": [
    "log_reg_cv.fit(X_train, y_train)"
   ]
  },
  {
   "cell_type": "code",
   "execution_count": 115,
   "metadata": {},
   "outputs": [
    {
     "name": "stdout",
     "output_type": "stream",
     "text": [
      "best hyperparameters:  {'C': 0.21544346900318834, 'penalty': 'l1', 'solver': 'liblinear', 'tol': 0.21544346900318834}\n",
      "accuracy:  0.6442307692307693\n"
     ]
    }
   ],
   "source": [
    "print(\"best hyperparameters: \", log_reg_cv.best_params_)\n",
    "print(\"accuracy: \", log_reg_cv.best_score_)"
   ]
  },
  {
   "cell_type": "code",
   "execution_count": null,
   "metadata": {},
   "outputs": [],
   "source": []
  }
 ],
 "metadata": {
  "kernelspec": {
   "display_name": "Python 3",
   "language": "python",
   "name": "python3"
  },
  "language_info": {
   "codemirror_mode": {
    "name": "ipython",
    "version": 3
   },
   "file_extension": ".py",
   "mimetype": "text/x-python",
   "name": "python",
   "nbconvert_exporter": "python",
   "pygments_lexer": "ipython3",
   "version": "3.7.7"
  }
 },
 "nbformat": 4,
 "nbformat_minor": 4
}
